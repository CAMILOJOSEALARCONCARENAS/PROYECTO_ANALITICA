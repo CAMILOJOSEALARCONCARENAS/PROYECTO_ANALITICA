{
 "cells": [
  {
   "cell_type": "markdown",
   "metadata": {},
   "source": [
    "ROGUE Y BLEU SCORE"
   ]
  },
  {
   "cell_type": "code",
   "execution_count": null,
   "metadata": {},
   "outputs": [],
   "source": [
    "#pip install sacrebleu"
   ]
  },
  {
   "cell_type": "code",
   "execution_count": null,
   "metadata": {},
   "outputs": [],
   "source": [
    "#pip install nltk rouge-score"
   ]
  },
  {
   "cell_type": "code",
   "execution_count": null,
   "metadata": {},
   "outputs": [],
   "source": [
    "#pip install pandas openpyxl"
   ]
  },
  {
   "cell_type": "code",
   "execution_count": null,
   "metadata": {},
   "outputs": [],
   "source": [
    "import pandas as pd\n",
    "import sacrebleu\n",
    "from rouge_score import rouge_scorer\n",
    "\n",
    "# Ruta del archivo de Excel y CSV\n",
    "excel_file_path = 'Entrenamiento_modelo/primerensayo.xlsx' #cambiar path\n",
    "\n",
    "# Leer la hoja \"Consolidado\" del archivo de Excel\n",
    "df = pd.read_excel(excel_file_path)"
   ]
  },
  {
   "cell_type": "code",
   "execution_count": null,
   "metadata": {},
   "outputs": [],
   "source": [
    "df.head()"
   ]
  },
  {
   "cell_type": "code",
   "execution_count": null,
   "metadata": {},
   "outputs": [],
   "source": [
    "df_cleaned = df\n",
    "\n",
    "# Inicializar ROUGE scorer\n",
    "scorer = rouge_scorer.RougeScorer(['rouge1', 'rouge2', 'rougeL'], use_stemmer=True)\n",
    "\n",
    "# Función para calcular BLEU y ROUGE\n",
    "def calculate_scores(reference, candidate):\n",
    "    # Calcular BLEU\n",
    "    bleu_score = sacrebleu.sentence_bleu(candidate, [reference]).score\n",
    "    # Calcular ROUGE\n",
    "    rouge_scores = scorer.score(reference, candidate)\n",
    "    return bleu_score, rouge_scores\n",
    "\n",
    "# Listas para almacenar los resultados\n",
    "bleu_scores = []\n",
    "rouge1_scores = []\n",
    "rouge2_scores = []\n",
    "rougeL_scores = []\n",
    "\n",
    "# Iterar sobre cada registro y calcular los scores\n",
    "for index, row in df_cleaned.iterrows():\n",
    "    reference = row['RespuestaPC']\n",
    "    candidate = row['Respuesta_ext']\n",
    "    bleu, rouge = calculate_scores(reference, candidate)\n",
    "    bleu_scores.append(bleu)\n",
    "    rouge1_scores.append(rouge['rouge1'].fmeasure)\n",
    "    rouge2_scores.append(rouge['rouge2'].fmeasure)\n",
    "    rougeL_scores.append(rouge['rougeL'].fmeasure)\n",
    "\n",
    "# Agregar las nuevas columnas al DataFrame\n",
    "df_cleaned['BLEU'] = bleu_scores\n",
    "df_cleaned['ROUGE1'] = rouge1_scores\n",
    "df_cleaned['ROUGE2'] = rouge2_scores\n",
    "df_cleaned['ROUGE-L'] = rougeL_scores\n",
    "\n",
    "# Mostrar el DataFrame actualizado con los scores\n",
    "df_cleaned"
   ]
  },
  {
   "cell_type": "code",
   "execution_count": null,
   "metadata": {},
   "outputs": [],
   "source": [
    "df_cleaned[\"BLEU\"].describe()"
   ]
  },
  {
   "cell_type": "code",
   "execution_count": null,
   "metadata": {},
   "outputs": [],
   "source": [
    "df_cleaned[\"ROUGE1\"].describe()"
   ]
  },
  {
   "cell_type": "markdown",
   "metadata": {},
   "source": [
    "STYLE\n"
   ]
  },
  {
   "cell_type": "code",
   "execution_count": null,
   "metadata": {},
   "outputs": [],
   "source": [
    "\n",
    "# Configurar la página de Streamlit para usar todo el ancho y el largo de la ventana\n",
    "st.set_page_config(layout=\"wide\")\n",
    "\n",
    "# Estilo CSS para mejorar la apariencia\n",
    "st.markdown(\"\"\"\n",
    "    <style>\n",
    "    .stButton>button {\n",
    "        background-color: #4CAF50; /* Verde */\n",
    "        color: white;\n",
    "        font-size: 16px;\n",
    "        margin: 10px;\n",
    "        padding: 10px 24px;\n",
    "        border: none;\n",
    "        cursor: pointer;\n",
    "    }\n",
    "    .stButton>button:hover {\n",
    "        background-color: #45a049;\n",
    "    }\n",
    "    .stContainer {\n",
    "        padding: 20px;\n",
    "        background-color: #f9f9f9;\n",
    "        border-radius: 10px;\n",
    "        margin-bottom: 20px;\n",
    "    }\n",
    "    .stTitle {\n",
    "        color: #333333;\n",
    "        text-align: center;\n",
    "        font-weight: bold;\n",
    "        font-size: 32px;\n",
    "        margin-bottom: 20px;\n",
    "    }\n",
    "    .stSubtitle {\n",
    "        color: #555555;\n",
    "        font-size: 24px;\n",
    "        margin-bottom: 10px;\n",
    "    }\n",
    "    .stText {\n",
    "        color: #333333;\n",
    "        font-size: 18px;\n",
    "        margin-bottom: 10px;\n",
    "    }\n",
    "    .dataframe {\n",
    "        overflow-x: auto;\n",
    "        width: 100%;\n",
    "        margin-bottom: 20px;\n",
    "    }\n",
    "    .dataframe th, .dataframe td {\n",
    "        white-space: normal;\n",
    "        text-align: left;\n",
    "        word-wrap: break-word;\n",
    "        padding: 8px;\n",
    "    }\n",
    "    .limited-height {\n",
    "        max-height: 200px;\n",
    "        overflow-y: auto;\n",
    "    }\n",
    "    </style>\n",
    "\"\"\", unsafe_allow_html=True)"
   ]
  },
  {
   "cell_type": "markdown",
   "metadata": {},
   "source": [
    "CONTAINER\n"
   ]
  },
  {
   "cell_type": "code",
   "execution_count": null,
   "metadata": {},
   "outputs": [],
   "source": [
    "# Crear un contenedor para los botones\n",
    "button_container = st.container()\n",
    "\n",
    "# Crear un contenedor para la visualización\n",
    "display_container = st.container()"
   ]
  },
  {
   "cell_type": "code",
   "execution_count": null,
   "metadata": {},
   "outputs": [],
   "source": [
    "\n",
    "with button_container:\n",
    "    col1, col2, col3 = st.columns([1, 1, 1])\n",
    "    \n",
    "    with col1:\n",
    "        if st.button(\"Bandeja de entrada\"):\n",
    "            try:"
   ]
  },
  {
   "cell_type": "code",
   "execution_count": null,
   "metadata": {},
   "outputs": [],
   "source": [
    "with col2:\n",
    "        if st.button(\"Generar respuesta\"):\n",
    "            try:"
   ]
  },
  {
   "cell_type": "code",
   "execution_count": null,
   "metadata": {},
   "outputs": [],
   "source": [
    "with col3:\n",
    "        if st.button(\"Enviar correos\"):\n",
    "            try:"
   ]
  },
  {
   "cell_type": "markdown",
   "metadata": {},
   "source": [
    "TEXT AREA"
   ]
  },
  {
   "cell_type": "code",
   "execution_count": null,
   "metadata": {},
   "outputs": [],
   "source": [
    " #Permitir la edición de la columna 'Respuesta2'\n",
    "        new_value = st.text_area(f\"Editar 'Respuesta2' para ID {selected_id}\", value=record['Respuesta2'], height=300)"
   ]
  },
  {
   "cell_type": "markdown",
   "metadata": {},
   "source": [
    "FUNCION MOSTRAR DF"
   ]
  },
  {
   "cell_type": "code",
   "execution_count": null,
   "metadata": {},
   "outputs": [],
   "source": [
    "def mostrar_dataframe(df, column_configs, height=500):\n",
    "    gb = GridOptionsBuilder.from_dataframe(df)\n",
    "    gb.configure_pagination(paginationAutoPageSize=True)\n",
    "    gb.configure_side_bar()\n",
    "    gb.configure_default_column(groupable=True, value=True, enableRowGroup=True, aggFunc='sum', editable=True)\n",
    "    \n",
    "    for col, config in column_configs.items():\n",
    "        gb.configure_column(col, **config)\n",
    "    \n",
    "    gridOptions = gb.build()\n",
    "    AgGrid(df, gridOptions=gridOptions, enable_enterprise_modules=True, height=height, fit_columns_on_grid_load=True)"
   ]
  }
 ],
 "metadata": {
  "language_info": {
   "name": "python"
  }
 },
 "nbformat": 4,
 "nbformat_minor": 2
}
